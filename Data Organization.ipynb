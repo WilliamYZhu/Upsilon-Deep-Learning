{
 "cells": [
  {
   "cell_type": "markdown",
   "metadata": {},
   "source": [
    "# Organizing all the images into sessions that corresponds with bold5000 ROI data\n",
    "In this jupyter notebook, I'm organizing all the ReadCoco, ReadSun, and ReadImgNet. Refactoring all the previous code written."
   ]
  },
  {
   "cell_type": "code",
   "execution_count": 1,
   "metadata": {},
   "outputs": [],
   "source": [
    "import numpy as np\n",
    "import requests\n",
    "import cv2\n",
    "from bs4 import BeautifulSoup\n",
    "import urllib\n",
    "from urllib.request import urlretrieve\n",
    "import json\n",
    "\n",
    "bold_dir = \"/Users/jz/Desktop/BOLD5000/\""
   ]
  },
  {
   "cell_type": "code",
   "execution_count": 28,
   "metadata": {},
   "outputs": [],
   "source": [
    "with open('{}BOLD5000_ROIs/ROIs/stim_lists/CSI0{}_stim_lists.txt'.format(bold_dir, 1), 'r') as f:\n",
    "    stimlist = f.read()"
   ]
  },
  {
   "cell_type": "code",
   "execution_count": 33,
   "metadata": {},
   "outputs": [
    {
     "name": "stdout",
     "output_type": "stream",
     "text": [
      "Amount of items in json file: 1695\n",
      "Empty ones 635\n"
     ]
    }
   ],
   "source": [
    "with open('{}BOLD5000_ROIs/ROIs/CSI1.json'.format(bold_dir), 'r') as f:\n",
    "    data1 = json.load(f)\n",
    "print(\"Amount of items in json file:\", len(data1))\n",
    "\n",
    "empty = 0\n",
    "for (name, url) in data1.items():\n",
    "    if url == \"\":\n",
    "        empty += 1\n",
    "print(\"Empty ones\", empty)"
   ]
  },
  {
   "cell_type": "code",
   "execution_count": 31,
   "metadata": {},
   "outputs": [
    {
     "name": "stdout",
     "output_type": "stream",
     "text": [
      "1928\n"
     ]
    }
   ],
   "source": [
    "img_list = stimlist.split('\\n')\n",
    "img_list.pop()\n",
    "count = 0\n",
    "for img_name in img_list:\n",
    "    if img_name[0] == 'n':\n",
    "        count += 1\n",
    "print(count)"
   ]
  },
  {
   "cell_type": "code",
   "execution_count": 32,
   "metadata": {},
   "outputs": [
    {
     "data": {
      "text/plain": [
       "1927"
      ]
     },
     "execution_count": 32,
     "metadata": {},
     "output_type": "execute_result"
    }
   ],
   "source": [
    "stimlist.count('\\nn')"
   ]
  },
  {
   "cell_type": "markdown",
   "metadata": {},
   "source": [
    "## Outputing Coco images"
   ]
  },
  {
   "cell_type": "code",
   "execution_count": null,
   "metadata": {},
   "outputs": [],
   "source": []
  }
 ],
 "metadata": {
  "kernelspec": {
   "display_name": "Python (myenv)",
   "language": "python",
   "name": "myenv"
  },
  "language_info": {
   "codemirror_mode": {
    "name": "ipython",
    "version": 3
   },
   "file_extension": ".py",
   "mimetype": "text/x-python",
   "name": "python",
   "nbconvert_exporter": "python",
   "pygments_lexer": "ipython3",
   "version": "3.7.4"
  }
 },
 "nbformat": 4,
 "nbformat_minor": 2
}

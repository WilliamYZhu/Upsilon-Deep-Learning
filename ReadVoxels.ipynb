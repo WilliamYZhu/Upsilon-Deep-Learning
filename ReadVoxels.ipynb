{
 "cells": [
  {
   "cell_type": "markdown",
   "metadata": {},
   "source": [
    "# The Voxels (unit-volume 'pixels') \n",
    "\n",
    "In this notebook, the basic properties of h5 file for ROI information is explored. \n",
    "\n",
    "The library used is [h5py](http://docs.h5py.org/en/stable/quick.html#quick).\n",
    "\n",
    "The [BOLD5000_ROIs.zip(3.92 GB](https://figshare.com/articles/BOLD5000/6459449) dataset."
   ]
  },
  {
   "cell_type": "code",
   "execution_count": 23,
   "metadata": {},
   "outputs": [],
   "source": [
    "import h5py\n",
    "import numpy as np"
   ]
  },
  {
   "cell_type": "code",
   "execution_count": 6,
   "metadata": {},
   "outputs": [],
   "source": [
    "# Set the dataset location url\n",
    "url = '/Users/jz/Desktop/BOLD5000'\n"
   ]
  },
  {
   "cell_type": "code",
   "execution_count": 10,
   "metadata": {},
   "outputs": [],
   "source": [
    "# Open the first file for sample reading\n",
    "rois = h5py.File('{}/BOLD5000_ROIs/ROIS/CSI1/h5/CSI1_ROIs_TR1.h5'.format(url), 'r')"
   ]
  },
  {
   "cell_type": "code",
   "execution_count": 17,
   "metadata": {},
   "outputs": [
    {
     "data": {
      "text/plain": [
       "(5254, 210)"
      ]
     },
     "execution_count": 17,
     "metadata": {},
     "output_type": "execute_result"
    }
   ],
   "source": [
    "# The keys of the dataset\n",
    "list(rois.keys())\n",
    "\n",
    "# The dimensions of the dataset\n",
    "rois['LHEarlyVis'].shape"
   ]
  },
  {
   "cell_type": "code",
   "execution_count": 31,
   "metadata": {},
   "outputs": [
    {
     "name": "stdout",
     "output_type": "stream",
     "text": [
      "Values have a mean of -0.005082256586433184, and ranges from min: 0.224081404440484 to max: -0.1838558106591498\n"
     ]
    }
   ],
   "source": [
    "np_rois = np.array((rois['LHEarlyVis']))\n",
    "print(\"Values have a mean of {}, and ranges from min: {} to max: {}\".format(np.mean(np_rois), np.amax(np_rois), np.amin(np_rois)))"
   ]
  },
  {
   "cell_type": "code",
   "execution_count": 29,
   "metadata": {},
   "outputs": [
    {
     "data": {
      "text/plain": [
       "0.224081404440484"
      ]
     },
     "execution_count": 29,
     "metadata": {},
     "output_type": "execute_result"
    }
   ],
   "source": []
  },
  {
   "cell_type": "code",
   "execution_count": 28,
   "metadata": {},
   "outputs": [
    {
     "data": {
      "text/plain": [
       "-0.1838558106591498"
      ]
     },
     "execution_count": 28,
     "metadata": {},
     "output_type": "execute_result"
    }
   ],
   "source": []
  },
  {
   "cell_type": "code",
   "execution_count": null,
   "metadata": {},
   "outputs": [],
   "source": []
  }
 ],
 "metadata": {
  "kernelspec": {
   "display_name": "Python (myenv)",
   "language": "python",
   "name": "myenv"
  },
  "language_info": {
   "codemirror_mode": {
    "name": "ipython",
    "version": 3
   },
   "file_extension": ".py",
   "mimetype": "text/x-python",
   "name": "python",
   "nbconvert_exporter": "python",
   "pygments_lexer": "ipython3",
   "version": "3.7.4"
  }
 },
 "nbformat": 4,
 "nbformat_minor": 2
}
